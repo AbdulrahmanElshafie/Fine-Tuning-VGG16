{
  "nbformat": 4,
  "nbformat_minor": 0,
  "metadata": {
    "colab": {
      "provenance": [],
      "include_colab_link": true
    },
    "kernelspec": {
      "name": "python3",
      "display_name": "Python 3"
    },
    "language_info": {
      "name": "python"
    }
  },
  "cells": [
    {
      "cell_type": "markdown",
      "metadata": {
        "id": "view-in-github",
        "colab_type": "text"
      },
      "source": [
        "<a href=\"https://colab.research.google.com/github/AbdulrahmanElshafie/Fine-Tuning-VGG16/blob/main/VGG16.ipynb\" target=\"_parent\"><img src=\"https://colab.research.google.com/assets/colab-badge.svg\" alt=\"Open In Colab\"/></a>"
      ]
    },
    {
      "cell_type": "code",
      "execution_count": null,
      "metadata": {
        "id": "04Z9WbMVggo4"
      },
      "outputs": [],
      "source": [
        "# pip install opencv-python"
      ]
    },
    {
      "cell_type": "code",
      "source": [
        "import numpy as np\n",
        "import tensorflow as tf\n",
        "from tensorflow import keras"
      ],
      "metadata": {
        "id": "WSuXzjtPgkga"
      },
      "execution_count": null,
      "outputs": []
    },
    {
      "cell_type": "code",
      "source": [
        "pip install rarfile"
      ],
      "metadata": {
        "colab": {
          "base_uri": "https://localhost:8080/"
        },
        "id": "Y4FCriXiwDYc",
        "outputId": "8528a6d1-16ec-47af-87c6-1cf985233e63"
      },
      "execution_count": null,
      "outputs": [
        {
          "output_type": "stream",
          "name": "stdout",
          "text": [
            "Requirement already satisfied: rarfile in /usr/local/lib/python3.10/dist-packages (4.1)\n"
          ]
        }
      ]
    },
    {
      "cell_type": "code",
      "source": [
        "import rarfile\n",
        "def extract_rar_folder(rar_path, extract_path):\n",
        "    with rarfile.RarFile(rar_path) as rf:\n",
        "        rf.extractall(extract_path)\n",
        "\n",
        "rar_path = '/content/train.rar'\n",
        "extract_path = '/content/sample_data/train'\n",
        "extract_rar_folder(rar_path, extract_path)\n",
        "\n",
        "rar_path_test = '/content/test.rar'\n",
        "extract_path_test = '/content/sample_data/test'\n",
        "extract_rar_folder(rar_path_test, extract_path_test)\n",
        "\n",
        "rar_path_val = '/content/val.rar'\n",
        "extract_path_val = '/content/sample_data/val'\n",
        "extract_rar_folder(rar_path_val, extract_path_val)"
      ],
      "metadata": {
        "id": "XIJIow5mxWrz"
      },
      "execution_count": null,
      "outputs": []
    },
    {
      "cell_type": "code",
      "source": [
        "from keras.preprocessing.image import ImageDataGenerator"
      ],
      "metadata": {
        "id": "dbs2aRA1hrap"
      },
      "execution_count": null,
      "outputs": []
    },
    {
      "cell_type": "code",
      "source": [
        "train_path='/content/sample_data/train/train'\n",
        "valid_path='/content/sample_data/val/val'\n",
        "test_path='/content/sample_data/test/test'"
      ],
      "metadata": {
        "id": "SGw8QFRGkyIT"
      },
      "execution_count": null,
      "outputs": []
    },
    {
      "cell_type": "code",
      "source": [
        "\n",
        "train_batches = ImageDataGenerator (preprocessing_function=tf.keras.applications.mobilenet.preprocess_input).flow_from_directory( directory = train_path, target_size=(224, 224), batch_size=10)\n",
        "valid_batches = ImageDataGenerator (preprocessing_function=tf.keras.applications.mobilenet.preprocess_input).flow_from_directory( directory = valid_path, target_size=(224, 224), batch_size=10)\n",
        "test_batches = ImageDataGenerator (preprocessing_function = tf.keras.applications.mobilenet.preprocess_input).flow_from_directory( directory = test_path, target_size=(224,224), batch_size=10, shuffle=False)"
      ],
      "metadata": {
        "id": "jcYz6QBPguiG",
        "colab": {
          "base_uri": "https://localhost:8080/"
        },
        "outputId": "2caeaa82-30c6-4e83-aa81-ee76ece41fb8"
      },
      "execution_count": null,
      "outputs": [
        {
          "output_type": "stream",
          "name": "stdout",
          "text": [
            "Found 1030 images belonging to 2 classes.\n",
            "Found 401 images belonging to 2 classes.\n",
            "Found 604 images belonging to 2 classes.\n"
          ]
        }
      ]
    },
    {
      "cell_type": "code",
      "source": [
        "imgs, labels=next(train_batches)"
      ],
      "metadata": {
        "id": "aH4Wv4tii3R0"
      },
      "execution_count": null,
      "outputs": []
    },
    {
      "cell_type": "code",
      "source": [
        "vgg16_model = tf.keras.applications.vgg16.VGG16()\n",
        "vgg16_model.summary()"
      ],
      "metadata": {
        "id": "aOLMycOWi7tl",
        "colab": {
          "base_uri": "https://localhost:8080/"
        },
        "outputId": "778d0c66-4a43-462f-946e-e62a2f8404be"
      },
      "execution_count": null,
      "outputs": [
        {
          "output_type": "stream",
          "name": "stdout",
          "text": [
            "Model: \"vgg16\"\n",
            "_________________________________________________________________\n",
            " Layer (type)                Output Shape              Param #   \n",
            "=================================================================\n",
            " input_1 (InputLayer)        [(None, 224, 224, 3)]     0         \n",
            "                                                                 \n",
            " block1_conv1 (Conv2D)       (None, 224, 224, 64)      1792      \n",
            "                                                                 \n",
            " block1_conv2 (Conv2D)       (None, 224, 224, 64)      36928     \n",
            "                                                                 \n",
            " block1_pool (MaxPooling2D)  (None, 112, 112, 64)      0         \n",
            "                                                                 \n",
            " block2_conv1 (Conv2D)       (None, 112, 112, 128)     73856     \n",
            "                                                                 \n",
            " block2_conv2 (Conv2D)       (None, 112, 112, 128)     147584    \n",
            "                                                                 \n",
            " block2_pool (MaxPooling2D)  (None, 56, 56, 128)       0         \n",
            "                                                                 \n",
            " block3_conv1 (Conv2D)       (None, 56, 56, 256)       295168    \n",
            "                                                                 \n",
            " block3_conv2 (Conv2D)       (None, 56, 56, 256)       590080    \n",
            "                                                                 \n",
            " block3_conv3 (Conv2D)       (None, 56, 56, 256)       590080    \n",
            "                                                                 \n",
            " block3_pool (MaxPooling2D)  (None, 28, 28, 256)       0         \n",
            "                                                                 \n",
            " block4_conv1 (Conv2D)       (None, 28, 28, 512)       1180160   \n",
            "                                                                 \n",
            " block4_conv2 (Conv2D)       (None, 28, 28, 512)       2359808   \n",
            "                                                                 \n",
            " block4_conv3 (Conv2D)       (None, 28, 28, 512)       2359808   \n",
            "                                                                 \n",
            " block4_pool (MaxPooling2D)  (None, 14, 14, 512)       0         \n",
            "                                                                 \n",
            " block5_conv1 (Conv2D)       (None, 14, 14, 512)       2359808   \n",
            "                                                                 \n",
            " block5_conv2 (Conv2D)       (None, 14, 14, 512)       2359808   \n",
            "                                                                 \n",
            " block5_conv3 (Conv2D)       (None, 14, 14, 512)       2359808   \n",
            "                                                                 \n",
            " block5_pool (MaxPooling2D)  (None, 7, 7, 512)         0         \n",
            "                                                                 \n",
            " flatten (Flatten)           (None, 25088)             0         \n",
            "                                                                 \n",
            " fc1 (Dense)                 (None, 4096)              102764544 \n",
            "                                                                 \n",
            " fc2 (Dense)                 (None, 4096)              16781312  \n",
            "                                                                 \n",
            " predictions (Dense)         (None, 1000)              4097000   \n",
            "                                                                 \n",
            "=================================================================\n",
            "Total params: 138357544 (527.79 MB)\n",
            "Trainable params: 138357544 (527.79 MB)\n",
            "Non-trainable params: 0 (0.00 Byte)\n",
            "_________________________________________________________________\n"
          ]
        }
      ]
    },
    {
      "cell_type": "code",
      "source": [
        "model=keras.Sequential()"
      ],
      "metadata": {
        "id": "PnhJBoLljSxs"
      },
      "execution_count": null,
      "outputs": []
    },
    {
      "cell_type": "code",
      "source": [
        "for layer in vgg16_model.layers[:-1]:\n",
        "  model.add(layer)"
      ],
      "metadata": {
        "id": "5qB5ZpK0jYPZ"
      },
      "execution_count": null,
      "outputs": []
    },
    {
      "cell_type": "code",
      "source": [
        "for layer in model.layers:\n",
        "  layer.trainable=False"
      ],
      "metadata": {
        "id": "D-O108nwjqm8"
      },
      "execution_count": null,
      "outputs": []
    },
    {
      "cell_type": "code",
      "source": [
        "model.add(keras.layers.Dense (2, activation ='softmax'))"
      ],
      "metadata": {
        "id": "VS2sBOH3i-is"
      },
      "execution_count": null,
      "outputs": []
    },
    {
      "cell_type": "code",
      "source": [
        "model.summary()"
      ],
      "metadata": {
        "id": "oXVdCO4fkCBz",
        "colab": {
          "base_uri": "https://localhost:8080/"
        },
        "outputId": "207f5db2-25d8-4c18-f885-eeebf79ad40d"
      },
      "execution_count": null,
      "outputs": [
        {
          "output_type": "stream",
          "name": "stdout",
          "text": [
            "Model: \"sequential\"\n",
            "_________________________________________________________________\n",
            " Layer (type)                Output Shape              Param #   \n",
            "=================================================================\n",
            " block1_conv1 (Conv2D)       (None, 224, 224, 64)      1792      \n",
            "                                                                 \n",
            " block1_conv2 (Conv2D)       (None, 224, 224, 64)      36928     \n",
            "                                                                 \n",
            " block1_pool (MaxPooling2D)  (None, 112, 112, 64)      0         \n",
            "                                                                 \n",
            " block2_conv1 (Conv2D)       (None, 112, 112, 128)     73856     \n",
            "                                                                 \n",
            " block2_conv2 (Conv2D)       (None, 112, 112, 128)     147584    \n",
            "                                                                 \n",
            " block2_pool (MaxPooling2D)  (None, 56, 56, 128)       0         \n",
            "                                                                 \n",
            " block3_conv1 (Conv2D)       (None, 56, 56, 256)       295168    \n",
            "                                                                 \n",
            " block3_conv2 (Conv2D)       (None, 56, 56, 256)       590080    \n",
            "                                                                 \n",
            " block3_conv3 (Conv2D)       (None, 56, 56, 256)       590080    \n",
            "                                                                 \n",
            " block3_pool (MaxPooling2D)  (None, 28, 28, 256)       0         \n",
            "                                                                 \n",
            " block4_conv1 (Conv2D)       (None, 28, 28, 512)       1180160   \n",
            "                                                                 \n",
            " block4_conv2 (Conv2D)       (None, 28, 28, 512)       2359808   \n",
            "                                                                 \n",
            " block4_conv3 (Conv2D)       (None, 28, 28, 512)       2359808   \n",
            "                                                                 \n",
            " block4_pool (MaxPooling2D)  (None, 14, 14, 512)       0         \n",
            "                                                                 \n",
            " block5_conv1 (Conv2D)       (None, 14, 14, 512)       2359808   \n",
            "                                                                 \n",
            " block5_conv2 (Conv2D)       (None, 14, 14, 512)       2359808   \n",
            "                                                                 \n",
            " block5_conv3 (Conv2D)       (None, 14, 14, 512)       2359808   \n",
            "                                                                 \n",
            " block5_pool (MaxPooling2D)  (None, 7, 7, 512)         0         \n",
            "                                                                 \n",
            " flatten (Flatten)           (None, 25088)             0         \n",
            "                                                                 \n",
            " fc1 (Dense)                 (None, 4096)              102764544 \n",
            "                                                                 \n",
            " fc2 (Dense)                 (None, 4096)              16781312  \n",
            "                                                                 \n",
            " dense (Dense)               (None, 2)                 8194      \n",
            "                                                                 \n",
            "=================================================================\n",
            "Total params: 134268738 (512.19 MB)\n",
            "Trainable params: 8194 (32.01 KB)\n",
            "Non-trainable params: 134260544 (512.16 MB)\n",
            "_________________________________________________________________\n"
          ]
        }
      ]
    },
    {
      "cell_type": "code",
      "source": [
        "model.compile(optimizer='adam', loss='categorical_crossentropy', metrics=['accuracy'])\n",
        "model.fit(train_batches, validation_data=valid_batches, steps_per_epoch=4, validation_steps =4, epochs=5, verbose=2)"
      ],
      "metadata": {
        "id": "6_jEUzYwka4m",
        "colab": {
          "base_uri": "https://localhost:8080/"
        },
        "outputId": "e0a08676-481d-4c37-8500-16dafa43911d"
      },
      "execution_count": null,
      "outputs": [
        {
          "output_type": "stream",
          "name": "stdout",
          "text": [
            "Epoch 1/5\n",
            "4/4 - 77s - loss: 1.0311 - accuracy: 0.5750 - val_loss: 1.0225 - val_accuracy: 0.5250 - 77s/epoch - 19s/step\n",
            "Epoch 2/5\n",
            "4/4 - 66s - loss: 1.1798 - accuracy: 0.4750 - val_loss: 0.6660 - val_accuracy: 0.6500 - 66s/epoch - 16s/step\n",
            "Epoch 3/5\n",
            "4/4 - 66s - loss: 0.9677 - accuracy: 0.4500 - val_loss: 0.5111 - val_accuracy: 0.8000 - 66s/epoch - 16s/step\n",
            "Epoch 4/5\n",
            "4/4 - 65s - loss: 0.6543 - accuracy: 0.6750 - val_loss: 0.7789 - val_accuracy: 0.5250 - 65s/epoch - 16s/step\n",
            "Epoch 5/5\n",
            "4/4 - 69s - loss: 0.4911 - accuracy: 0.8000 - val_loss: 0.5554 - val_accuracy: 0.7250 - 69s/epoch - 17s/step\n"
          ]
        },
        {
          "output_type": "execute_result",
          "data": {
            "text/plain": [
              "<keras.src.callbacks.History at 0x7d28acca58d0>"
            ]
          },
          "metadata": {},
          "execution_count": 16
        }
      ]
    },
    {
      "cell_type": "code",
      "source": [],
      "metadata": {
        "id": "0BuXfJ4h111Z"
      },
      "execution_count": null,
      "outputs": []
    }
  ]
}